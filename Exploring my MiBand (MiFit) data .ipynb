{
 "cells": [
  {
   "cell_type": "markdown",
   "id": "08cdb138",
   "metadata": {},
   "source": [
    "# Exploring my MiBand Data\n",
    "December 21,2022"
   ]
  },
  {
   "cell_type": "markdown",
   "id": "2b8548db",
   "metadata": {},
   "source": [
    "## The goal of this project was to practice:\n",
    "\n",
    "1. How to export Xiaomi MiBand data \n",
    "2. Working with csv data format\n",
    "3. Visualizations\n",
    "4. Statistics in Python"
   ]
  },
  {
   "cell_type": "markdown",
   "id": "d0c6d6be",
   "metadata": {},
   "source": [
    "## The general outline of this notebook is as follows:\n",
    "1. Import or install necessary libraries\n",
    "2. Read in and visualize data sets (heart rate, sleep, steps)\n",
    "3. Analyses!\n",
    "4. Summary and conclusion"
   ]
  },
  {
   "cell_type": "markdown",
   "id": "2f14e291",
   "metadata": {},
   "source": [
    "## 1. Import and install the necessary libraries"
   ]
  },
  {
   "cell_type": "code",
   "execution_count": 1,
   "id": "e999864c",
   "metadata": {},
   "outputs": [],
   "source": [
    "import pandas as pd\n",
    "import numpy as np\n",
    "from time import sleep\n",
    "import datetime\n",
    "\n",
    "#plotting\n",
    "import matplotlib\n",
    "from matplotlib import pyplot as plt\n",
    "import seaborn as sns\n",
    "%matplotlib inline"
   ]
  },
  {
   "cell_type": "markdown",
   "id": "efc8ab3b",
   "metadata": {},
   "source": [
    "Let's read one file with heart rate data "
   ]
  },
  {
   "cell_type": "code",
   "execution_count": 4,
   "id": "ddbf8730",
   "metadata": {},
   "outputs": [
    {
     "data": {
      "text/html": [
       "<div>\n",
       "<style scoped>\n",
       "    .dataframe tbody tr th:only-of-type {\n",
       "        vertical-align: middle;\n",
       "    }\n",
       "\n",
       "    .dataframe tbody tr th {\n",
       "        vertical-align: top;\n",
       "    }\n",
       "\n",
       "    .dataframe thead th {\n",
       "        text-align: right;\n",
       "    }\n",
       "</style>\n",
       "<table border=\"1\" class=\"dataframe\">\n",
       "  <thead>\n",
       "    <tr style=\"text-align: right;\">\n",
       "      <th></th>\n",
       "      <th>time</th>\n",
       "      <th>heartRate</th>\n",
       "    </tr>\n",
       "  </thead>\n",
       "  <tbody>\n",
       "    <tr>\n",
       "      <th>0</th>\n",
       "      <td>2022-09-30 04:38:18+0000</td>\n",
       "      <td>94</td>\n",
       "    </tr>\n",
       "    <tr>\n",
       "      <th>1</th>\n",
       "      <td>2022-09-01 09:14:59+0000</td>\n",
       "      <td>75</td>\n",
       "    </tr>\n",
       "    <tr>\n",
       "      <th>2</th>\n",
       "      <td>2022-08-25 05:48:20+0000</td>\n",
       "      <td>86</td>\n",
       "    </tr>\n",
       "    <tr>\n",
       "      <th>3</th>\n",
       "      <td>2022-06-24 08:54:34+0000</td>\n",
       "      <td>70</td>\n",
       "    </tr>\n",
       "    <tr>\n",
       "      <th>4</th>\n",
       "      <td>2022-06-10 12:57:24+0000</td>\n",
       "      <td>74</td>\n",
       "    </tr>\n",
       "  </tbody>\n",
       "</table>\n",
       "</div>"
      ],
      "text/plain": [
       "                       time  heartRate\n",
       "0  2022-09-30 04:38:18+0000         94\n",
       "1  2022-09-01 09:14:59+0000         75\n",
       "2  2022-08-25 05:48:20+0000         86\n",
       "3  2022-06-24 08:54:34+0000         70\n",
       "4  2022-06-10 12:57:24+0000         74"
      ]
     },
     "execution_count": 4,
     "metadata": {},
     "output_type": "execute_result"
    }
   ],
   "source": [
    "hr_data_sample = pd.read_csv(\"E:/Studies/GitHub/Projects/Exploring my MiFit Data/Bett's MiBand Data/Heartrate/HEARTRATE_1671526161503.csv\")\n",
    "hr_data_sample.head()"
   ]
  },
  {
   "cell_type": "markdown",
   "id": "557818d4",
   "metadata": {},
   "source": [
    "## 2. Read in and visualize data"
   ]
  },
  {
   "cell_type": "markdown",
   "id": "e421dca7",
   "metadata": {},
   "source": [
    "### Heart Rate"
   ]
  },
  {
   "cell_type": "code",
   "execution_count": 9,
   "id": "26111d07",
   "metadata": {},
   "outputs": [
    {
     "data": {
      "text/plain": [
       "Index(['time', 'bpm'], dtype='object', name='heartRate')"
      ]
     },
     "execution_count": 9,
     "metadata": {},
     "output_type": "execute_result"
    }
   ],
   "source": [
    "#rename the column hearRate to beat per min(bpm)\n",
    "hr_data_sample.rename(columns={'heartRate' : 'bpm'}, inplace=True)\n",
    "#lets see if it has been renamed\n",
    "hr_data_sample.columns"
   ]
  },
  {
   "cell_type": "markdown",
   "id": "eee1c6da",
   "metadata": {},
   "source": [
    "Let's have a look of how my heart rate looks"
   ]
  },
  {
   "cell_type": "code",
   "execution_count": 10,
   "id": "00f7dc61",
   "metadata": {},
   "outputs": [
    {
     "data": {
      "image/png": "[encoded data removed]",
      "text/plain": [
       "<Figure size 432x288 with 1 Axes>"
      ]
     },
     "metadata": {
      "needs_background": "light"
     },
     "output_type": "display_data"
    }
   ],
   "source": [
    "hr_data_sample.columns = ['time', 'bpm']\n",
    "hr_data_sample.plot(color = \"firebrick\")\n",
    "plt.ylabel('Heart Rate');"
   ]
  },
  {
   "cell_type": "markdown",
   "id": "f0af5fca",
   "metadata": {},
   "source": [
    "Not quite a lot of data, only had the Miband for roughly 8 months and there's a possibility I at times forgot to wear it."
   ]
  },
  {
   "cell_type": "code",
   "execution_count": 12,
   "id": "d1b06b68",
   "metadata": {},
   "outputs": [
    {
     "data": {
      "text/html": [
       "<div>\n",
       "<style scoped>\n",
       "    .dataframe tbody tr th:only-of-type {\n",
       "        vertical-align: middle;\n",
       "    }\n",
       "\n",
       "    .dataframe tbody tr th {\n",
       "        vertical-align: top;\n",
       "    }\n",
       "\n",
       "    .dataframe thead th {\n",
       "        text-align: right;\n",
       "    }\n",
       "</style>\n",
       "<table border=\"1\" class=\"dataframe\">\n",
       "  <thead>\n",
       "    <tr style=\"text-align: right;\">\n",
       "      <th></th>\n",
       "      <th>bpm</th>\n",
       "    </tr>\n",
       "  </thead>\n",
       "  <tbody>\n",
       "    <tr>\n",
       "      <th>count</th>\n",
       "      <td>9.000000</td>\n",
       "    </tr>\n",
       "    <tr>\n",
       "      <th>mean</th>\n",
       "      <td>83.222222</td>\n",
       "    </tr>\n",
       "    <tr>\n",
       "      <th>std</th>\n",
       "      <td>10.756135</td>\n",
       "    </tr>\n",
       "    <tr>\n",
       "      <th>min</th>\n",
       "      <td>70.000000</td>\n",
       "    </tr>\n",
       "    <tr>\n",
       "      <th>25%</th>\n",
       "      <td>74.000000</td>\n",
       "    </tr>\n",
       "    <tr>\n",
       "      <th>50%</th>\n",
       "      <td>86.000000</td>\n",
       "    </tr>\n",
       "    <tr>\n",
       "      <th>75%</th>\n",
       "      <td>90.000000</td>\n",
       "    </tr>\n",
       "    <tr>\n",
       "      <th>max</th>\n",
       "      <td>101.000000</td>\n",
       "    </tr>\n",
       "  </tbody>\n",
       "</table>\n",
       "</div>"
      ],
      "text/plain": [
       "              bpm\n",
       "count    9.000000\n",
       "mean    83.222222\n",
       "std     10.756135\n",
       "min     70.000000\n",
       "25%     74.000000\n",
       "50%     86.000000\n",
       "75%     90.000000\n",
       "max    101.000000"
      ]
     },
     "execution_count": 12,
     "metadata": {},
     "output_type": "execute_result"
    }
   ],
   "source": [
    "#statistical summary\n",
    "hr_data_sample.describe()"
   ]
  },
  {
   "cell_type": "markdown",
   "id": "eb65e3c3",
   "metadata": {},
   "source": [
    "### Sleep data"
   ]
  },
  {
   "cell_type": "code",
   "execution_count": 13,
   "id": "aa46d6fd",
   "metadata": {},
   "outputs": [
    {
     "data": {
      "text/html": [
       "<div>\n",
       "<style scoped>\n",
       "    .dataframe tbody tr th:only-of-type {\n",
       "        vertical-align: middle;\n",
       "    }\n",
       "\n",
       "    .dataframe tbody tr th {\n",
       "        vertical-align: top;\n",
       "    }\n",
       "\n",
       "    .dataframe thead th {\n",
       "        text-align: right;\n",
       "    }\n",
       "</style>\n",
       "<table border=\"1\" class=\"dataframe\">\n",
       "  <thead>\n",
       "    <tr style=\"text-align: right;\">\n",
       "      <th></th>\n",
       "      <th>date</th>\n",
       "      <th>deepSleepTime</th>\n",
       "      <th>shallowSleepTime</th>\n",
       "      <th>wakeTime</th>\n",
       "      <th>start</th>\n",
       "      <th>stop</th>\n",
       "      <th>REMTime</th>\n",
       "      <th>naps</th>\n",
       "      <th>Unnamed: 8</th>\n",
       "      <th>Unnamed: 9</th>\n",
       "      <th>...</th>\n",
       "      <th>Unnamed: 13</th>\n",
       "      <th>Unnamed: 14</th>\n",
       "      <th>Unnamed: 15</th>\n",
       "      <th>Unnamed: 16</th>\n",
       "      <th>Unnamed: 17</th>\n",
       "      <th>Unnamed: 18</th>\n",
       "      <th>Unnamed: 19</th>\n",
       "      <th>Unnamed: 20</th>\n",
       "      <th>Unnamed: 21</th>\n",
       "      <th>Unnamed: 22</th>\n",
       "    </tr>\n",
       "  </thead>\n",
       "  <tbody>\n",
       "    <tr>\n",
       "      <th>0</th>\n",
       "      <td>11/11/2021</td>\n",
       "      <td>0</td>\n",
       "      <td>0</td>\n",
       "      <td>0</td>\n",
       "      <td>2021-11-09 21:00:00+0000</td>\n",
       "      <td>2021-11-09 21:00:00+0000</td>\n",
       "      <td>0</td>\n",
       "      <td>NaN</td>\n",
       "      <td>NaN</td>\n",
       "      <td>NaN</td>\n",
       "      <td>...</td>\n",
       "      <td>NaN</td>\n",
       "      <td>NaN</td>\n",
       "      <td>NaN</td>\n",
       "      <td>NaN</td>\n",
       "      <td>NaN</td>\n",
       "      <td>NaN</td>\n",
       "      <td>NaN</td>\n",
       "      <td>NaN</td>\n",
       "      <td>NaN</td>\n",
       "      <td>NaN</td>\n",
       "    </tr>\n",
       "    <tr>\n",
       "      <th>1</th>\n",
       "      <td>12/11/2021</td>\n",
       "      <td>61</td>\n",
       "      <td>400</td>\n",
       "      <td>2</td>\n",
       "      <td>2021-11-11 19:52:00+0000</td>\n",
       "      <td>2021-11-12 04:11:00+0000</td>\n",
       "      <td>36</td>\n",
       "      <td>NaN</td>\n",
       "      <td>NaN</td>\n",
       "      <td>NaN</td>\n",
       "      <td>...</td>\n",
       "      <td>NaN</td>\n",
       "      <td>NaN</td>\n",
       "      <td>NaN</td>\n",
       "      <td>NaN</td>\n",
       "      <td>NaN</td>\n",
       "      <td>NaN</td>\n",
       "      <td>NaN</td>\n",
       "      <td>NaN</td>\n",
       "      <td>NaN</td>\n",
       "      <td>NaN</td>\n",
       "    </tr>\n",
       "    <tr>\n",
       "      <th>2</th>\n",
       "      <td>13/11/2021</td>\n",
       "      <td>0</td>\n",
       "      <td>0</td>\n",
       "      <td>0</td>\n",
       "      <td>2021-11-11 21:00:00+0000</td>\n",
       "      <td>2021-11-11 21:00:00+0000</td>\n",
       "      <td>0</td>\n",
       "      <td>[{\\start\\\":\\\"2019-04-14 00:36:13+0000\\\"</td>\n",
       "      <td>\\\"end\\\":\\\"2019-04-14 00:37:06+0000\\\"}]\"</td>\n",
       "      <td>NaN</td>\n",
       "      <td>...</td>\n",
       "      <td>NaN</td>\n",
       "      <td>NaN</td>\n",
       "      <td>NaN</td>\n",
       "      <td>NaN</td>\n",
       "      <td>NaN</td>\n",
       "      <td>NaN</td>\n",
       "      <td>NaN</td>\n",
       "      <td>NaN</td>\n",
       "      <td>NaN</td>\n",
       "      <td>NaN</td>\n",
       "    </tr>\n",
       "    <tr>\n",
       "      <th>3</th>\n",
       "      <td>14/11/2021</td>\n",
       "      <td>0</td>\n",
       "      <td>0</td>\n",
       "      <td>0</td>\n",
       "      <td>2021-11-12 21:00:00+0000</td>\n",
       "      <td>2021-11-12 21:00:00+0000</td>\n",
       "      <td>0</td>\n",
       "      <td>NaN</td>\n",
       "      <td>NaN</td>\n",
       "      <td>NaN</td>\n",
       "      <td>...</td>\n",
       "      <td>NaN</td>\n",
       "      <td>NaN</td>\n",
       "      <td>NaN</td>\n",
       "      <td>NaN</td>\n",
       "      <td>NaN</td>\n",
       "      <td>NaN</td>\n",
       "      <td>NaN</td>\n",
       "      <td>NaN</td>\n",
       "      <td>NaN</td>\n",
       "      <td>NaN</td>\n",
       "    </tr>\n",
       "    <tr>\n",
       "      <th>4</th>\n",
       "      <td>15/11/2021</td>\n",
       "      <td>64</td>\n",
       "      <td>290</td>\n",
       "      <td>59</td>\n",
       "      <td>2021-11-14 18:26:00+0000</td>\n",
       "      <td>2021-11-15 02:31:00+0000</td>\n",
       "      <td>72</td>\n",
       "      <td>NaN</td>\n",
       "      <td>NaN</td>\n",
       "      <td>NaN</td>\n",
       "      <td>...</td>\n",
       "      <td>NaN</td>\n",
       "      <td>NaN</td>\n",
       "      <td>NaN</td>\n",
       "      <td>NaN</td>\n",
       "      <td>NaN</td>\n",
       "      <td>NaN</td>\n",
       "      <td>NaN</td>\n",
       "      <td>NaN</td>\n",
       "      <td>NaN</td>\n",
       "      <td>NaN</td>\n",
       "    </tr>\n",
       "  </tbody>\n",
       "</table>\n",
       "<p>5 rows × 23 columns</p>\n",
       "</div>"
      ],
      "text/plain": [
       "         date  deepSleepTime  shallowSleepTime  wakeTime  \\\n",
       "0  11/11/2021              0                 0         0   \n",
       "1  12/11/2021             61               400         2   \n",
       "2  13/11/2021              0                 0         0   \n",
       "3  14/11/2021              0                 0         0   \n",
       "4  15/11/2021             64               290        59   \n",
       "\n",
       "                      start                      stop  REMTime  \\\n",
       "0  2021-11-09 21:00:00+0000  2021-11-09 21:00:00+0000        0   \n",
       "1  2021-11-11 19:52:00+0000  2021-11-12 04:11:00+0000       36   \n",
       "2  2021-11-11 21:00:00+0000  2021-11-11 21:00:00+0000        0   \n",
       "3  2021-11-12 21:00:00+0000  2021-11-12 21:00:00+0000        0   \n",
       "4  2021-11-14 18:26:00+0000  2021-11-15 02:31:00+0000       72   \n",
       "\n",
       "                                      naps  \\\n",
       "0                                      NaN   \n",
       "1                                      NaN   \n",
       "2  [{\\start\\\":\\\"2019-04-14 00:36:13+0000\\\"   \n",
       "3                                      NaN   \n",
       "4                                      NaN   \n",
       "\n",
       "                                Unnamed: 8 Unnamed: 9  ... Unnamed: 13  \\\n",
       "0                                      NaN        NaN  ...         NaN   \n",
       "1                                      NaN        NaN  ...         NaN   \n",
       "2  \\\"end\\\":\\\"2019-04-14 00:37:06+0000\\\"}]\"        NaN  ...         NaN   \n",
       "3                                      NaN        NaN  ...         NaN   \n",
       "4                                      NaN        NaN  ...         NaN   \n",
       "\n",
       "  Unnamed: 14 Unnamed: 15 Unnamed: 16 Unnamed: 17 Unnamed: 18 Unnamed: 19  \\\n",
       "0         NaN         NaN         NaN         NaN         NaN         NaN   \n",
       "1         NaN         NaN         NaN         NaN         NaN         NaN   \n",
       "2         NaN         NaN         NaN         NaN         NaN         NaN   \n",
       "3         NaN         NaN         NaN         NaN         NaN         NaN   \n",
       "4         NaN         NaN         NaN         NaN         NaN         NaN   \n",
       "\n",
       "  Unnamed: 20 Unnamed: 21 Unnamed: 22  \n",
       "0         NaN         NaN         NaN  \n",
       "1         NaN         NaN         NaN  \n",
       "2         NaN         NaN         NaN  \n",
       "3         NaN         NaN         NaN  \n",
       "4         NaN         NaN         NaN  \n",
       "\n",
       "[5 rows x 23 columns]"
      ]
     },
     "execution_count": 13,
     "metadata": {},
     "output_type": "execute_result"
    }
   ],
   "source": [
    "#read the exported sleep data\n",
    "sleepdata = pd.read_csv(\"E:/Studies/GitHub/Projects/Exploring my MiFit Data/Bett's MiBand Data/Sleep/SLEEP_1671526161464.csv\")\n",
    "sleepdata.head()"
   ]
  },
  {
   "cell_type": "markdown",
   "id": "13b125c0",
   "metadata": {},
   "source": [
    "Many null values seems like there are times I forgot to sleep with the band on my wrist, lets drop them, plus I don't need the nap data for this analysis.\n",
    "\n",
    "Let's select the columns that we need and store them in a new dataframe"
   ]
  },
  {
   "cell_type": "code",
   "execution_count": 18,
   "id": "7231e381",
   "metadata": {},
   "outputs": [
    {
     "data": {
      "text/html": [
       "<div>\n",
       "<style scoped>\n",
       "    .dataframe tbody tr th:only-of-type {\n",
       "        vertical-align: middle;\n",
       "    }\n",
       "\n",
       "    .dataframe tbody tr th {\n",
       "        vertical-align: top;\n",
       "    }\n",
       "\n",
       "    .dataframe thead th {\n",
       "        text-align: right;\n",
       "    }\n",
       "</style>\n",
       "<table border=\"1\" class=\"dataframe\">\n",
       "  <thead>\n",
       "    <tr style=\"text-align: right;\">\n",
       "      <th></th>\n",
       "      <th>date</th>\n",
       "      <th>deepSleepTime</th>\n",
       "      <th>shallowSleepTime</th>\n",
       "      <th>start</th>\n",
       "      <th>stop</th>\n",
       "      <th>REMTime</th>\n",
       "    </tr>\n",
       "  </thead>\n",
       "  <tbody>\n",
       "    <tr>\n",
       "      <th>0</th>\n",
       "      <td>11/11/2021</td>\n",
       "      <td>0</td>\n",
       "      <td>0</td>\n",
       "      <td>2021-11-09 21:00:00+0000</td>\n",
       "      <td>2021-11-09 21:00:00+0000</td>\n",
       "      <td>0</td>\n",
       "    </tr>\n",
       "    <tr>\n",
       "      <th>1</th>\n",
       "      <td>12/11/2021</td>\n",
       "      <td>61</td>\n",
       "      <td>400</td>\n",
       "      <td>2021-11-11 19:52:00+0000</td>\n",
       "      <td>2021-11-12 04:11:00+0000</td>\n",
       "      <td>36</td>\n",
       "    </tr>\n",
       "    <tr>\n",
       "      <th>2</th>\n",
       "      <td>13/11/2021</td>\n",
       "      <td>0</td>\n",
       "      <td>0</td>\n",
       "      <td>2021-11-11 21:00:00+0000</td>\n",
       "      <td>2021-11-11 21:00:00+0000</td>\n",
       "      <td>0</td>\n",
       "    </tr>\n",
       "    <tr>\n",
       "      <th>3</th>\n",
       "      <td>14/11/2021</td>\n",
       "      <td>0</td>\n",
       "      <td>0</td>\n",
       "      <td>2021-11-12 21:00:00+0000</td>\n",
       "      <td>2021-11-12 21:00:00+0000</td>\n",
       "      <td>0</td>\n",
       "    </tr>\n",
       "    <tr>\n",
       "      <th>4</th>\n",
       "      <td>15/11/2021</td>\n",
       "      <td>64</td>\n",
       "      <td>290</td>\n",
       "      <td>2021-11-14 18:26:00+0000</td>\n",
       "      <td>2021-11-15 02:31:00+0000</td>\n",
       "      <td>72</td>\n",
       "    </tr>\n",
       "  </tbody>\n",
       "</table>\n",
       "</div>"
      ],
      "text/plain": [
       "         date  deepSleepTime  shallowSleepTime                     start  \\\n",
       "0  11/11/2021              0                 0  2021-11-09 21:00:00+0000   \n",
       "1  12/11/2021             61               400  2021-11-11 19:52:00+0000   \n",
       "2  13/11/2021              0                 0  2021-11-11 21:00:00+0000   \n",
       "3  14/11/2021              0                 0  2021-11-12 21:00:00+0000   \n",
       "4  15/11/2021             64               290  2021-11-14 18:26:00+0000   \n",
       "\n",
       "                       stop  REMTime  \n",
       "0  2021-11-09 21:00:00+0000        0  \n",
       "1  2021-11-12 04:11:00+0000       36  \n",
       "2  2021-11-11 21:00:00+0000        0  \n",
       "3  2021-11-12 21:00:00+0000        0  \n",
       "4  2021-11-15 02:31:00+0000       72  "
      ]
     },
     "execution_count": 18,
     "metadata": {},
     "output_type": "execute_result"
    }
   ],
   "source": [
    "#select date,deepsleeptime, shallowsleeptime, start, stop and REMTime\n",
    "columns_to_select = ['date', 'deepSleepTime', 'shallowSleepTime', 'start', 'stop', 'REMTime']\n",
    "sleepdat = sleepdata.loc[:, columns_to_select]\n",
    "#first 5 rows\n",
    "sleepdat.head()"
   ]
  },
  {
   "cell_type": "markdown",
   "id": "a884f2ff",
   "metadata": {},
   "source": [
    "Since we have the start(when I go to bed) and stop(when I wake up), let's derive a column called hours to see the total hours of sleep I get in a day"
   ]
  },
  {
   "cell_type": "code",
   "execution_count": 31,
   "id": "d1cc3c55",
   "metadata": {},
   "outputs": [
    {
     "data": {
      "text/html": [
       "<div>\n",
       "<style scoped>\n",
       "    .dataframe tbody tr th:only-of-type {\n",
       "        vertical-align: middle;\n",
       "    }\n",
       "\n",
       "    .dataframe tbody tr th {\n",
       "        vertical-align: top;\n",
       "    }\n",
       "\n",
       "    .dataframe thead th {\n",
       "        text-align: right;\n",
       "    }\n",
       "</style>\n",
       "<table border=\"1\" class=\"dataframe\">\n",
       "  <thead>\n",
       "    <tr style=\"text-align: right;\">\n",
       "      <th></th>\n",
       "      <th>date</th>\n",
       "      <th>deepSleepTime</th>\n",
       "      <th>shallowSleepTime</th>\n",
       "      <th>start</th>\n",
       "      <th>stop</th>\n",
       "      <th>REMTime</th>\n",
       "      <th>diff</th>\n",
       "      <th>hours</th>\n",
       "    </tr>\n",
       "  </thead>\n",
       "  <tbody>\n",
       "    <tr>\n",
       "      <th>0</th>\n",
       "      <td>11/11/2021</td>\n",
       "      <td>0</td>\n",
       "      <td>0</td>\n",
       "      <td>2021-11-09 21:00:00+00:00</td>\n",
       "      <td>2021-11-09 21:00:00+00:00</td>\n",
       "      <td>0</td>\n",
       "      <td>0 days 00:00:00</td>\n",
       "      <td>0</td>\n",
       "    </tr>\n",
       "    <tr>\n",
       "      <th>1</th>\n",
       "      <td>12/11/2021</td>\n",
       "      <td>61</td>\n",
       "      <td>400</td>\n",
       "      <td>2021-11-11 19:52:00+00:00</td>\n",
       "      <td>2021-11-12 04:11:00+00:00</td>\n",
       "      <td>36</td>\n",
       "      <td>0 days 08:19:00</td>\n",
       "      <td>8</td>\n",
       "    </tr>\n",
       "    <tr>\n",
       "      <th>2</th>\n",
       "      <td>13/11/2021</td>\n",
       "      <td>0</td>\n",
       "      <td>0</td>\n",
       "      <td>2021-11-11 21:00:00+00:00</td>\n",
       "      <td>2021-11-11 21:00:00+00:00</td>\n",
       "      <td>0</td>\n",
       "      <td>0 days 00:00:00</td>\n",
       "      <td>0</td>\n",
       "    </tr>\n",
       "    <tr>\n",
       "      <th>3</th>\n",
       "      <td>14/11/2021</td>\n",
       "      <td>0</td>\n",
       "      <td>0</td>\n",
       "      <td>2021-11-12 21:00:00+00:00</td>\n",
       "      <td>2021-11-12 21:00:00+00:00</td>\n",
       "      <td>0</td>\n",
       "      <td>0 days 00:00:00</td>\n",
       "      <td>0</td>\n",
       "    </tr>\n",
       "    <tr>\n",
       "      <th>4</th>\n",
       "      <td>15/11/2021</td>\n",
       "      <td>64</td>\n",
       "      <td>290</td>\n",
       "      <td>2021-11-14 18:26:00+00:00</td>\n",
       "      <td>2021-11-15 02:31:00+00:00</td>\n",
       "      <td>72</td>\n",
       "      <td>0 days 08:05:00</td>\n",
       "      <td>8</td>\n",
       "    </tr>\n",
       "  </tbody>\n",
       "</table>\n",
       "</div>"
      ],
      "text/plain": [
       "         date  deepSleepTime  shallowSleepTime                     start  \\\n",
       "0  11/11/2021              0                 0 2021-11-09 21:00:00+00:00   \n",
       "1  12/11/2021             61               400 2021-11-11 19:52:00+00:00   \n",
       "2  13/11/2021              0                 0 2021-11-11 21:00:00+00:00   \n",
       "3  14/11/2021              0                 0 2021-11-12 21:00:00+00:00   \n",
       "4  15/11/2021             64               290 2021-11-14 18:26:00+00:00   \n",
       "\n",
       "                       stop  REMTime            diff  hours  \n",
       "0 2021-11-09 21:00:00+00:00        0 0 days 00:00:00      0  \n",
       "1 2021-11-12 04:11:00+00:00       36 0 days 08:19:00      8  \n",
       "2 2021-11-11 21:00:00+00:00        0 0 days 00:00:00      0  \n",
       "3 2021-11-12 21:00:00+00:00        0 0 days 00:00:00      0  \n",
       "4 2021-11-15 02:31:00+00:00       72 0 days 08:05:00      8  "
      ]
     },
     "execution_count": 31,
     "metadata": {},
     "output_type": "execute_result"
    }
   ],
   "source": [
    "#convert 'start' and 'stop' to datetime objects\n",
    "\n",
    "sleepdat[\"start\"] = pd.to_datetime(sleepdat[\"start\"])\n",
    "sleepdat[\"stop\"] = pd.to_datetime(sleepdat[\"stop\"])\n",
    "\n",
    "# Calculate the difference between the start and stop times\n",
    "sleepdat[\"diff\"] = sleepdat[\"stop\"] - sleepdat[\"start\"]\n",
    "\n",
    "# Extract the number of hours from the difference\n",
    "sleepdat[\"hours\"] = sleepdat[\"diff\"].dt.total_seconds() / 3600\n",
    "\n",
    "# Round the number of hours to the nearest integer\n",
    "sleepdat[\"hours\"] = sleepdat[\"hours\"].round().astype(int)\n",
    "\n",
    "# Display the dataframe\n",
    "sleepdat.head()\n"
   ]
  },
  {
   "cell_type": "code",
   "execution_count": 51,
   "id": "d7e9edd4",
   "metadata": {},
   "outputs": [
    {
     "data": {
      "text/html": [
       "<div>\n",
       "<style scoped>\n",
       "    .dataframe tbody tr th:only-of-type {\n",
       "        vertical-align: middle;\n",
       "    }\n",
       "\n",
       "    .dataframe tbody tr th {\n",
       "        vertical-align: top;\n",
       "    }\n",
       "\n",
       "    .dataframe thead th {\n",
       "        text-align: right;\n",
       "    }\n",
       "</style>\n",
       "<table border=\"1\" class=\"dataframe\">\n",
       "  <thead>\n",
       "    <tr style=\"text-align: right;\">\n",
       "      <th></th>\n",
       "      <th>date</th>\n",
       "      <th>deepSleepTime</th>\n",
       "      <th>shallowSleepTime</th>\n",
       "      <th>start</th>\n",
       "      <th>stop</th>\n",
       "      <th>REMTime</th>\n",
       "      <th>diff</th>\n",
       "      <th>hours</th>\n",
       "    </tr>\n",
       "  </thead>\n",
       "  <tbody>\n",
       "    <tr>\n",
       "      <th>1</th>\n",
       "      <td>12/11/2021</td>\n",
       "      <td>61.0</td>\n",
       "      <td>400.0</td>\n",
       "      <td>2021-11-11 19:52:00+00:00</td>\n",
       "      <td>2021-11-12 04:11:00+00:00</td>\n",
       "      <td>36.0</td>\n",
       "      <td>0 days 08:19:00</td>\n",
       "      <td>8.0</td>\n",
       "    </tr>\n",
       "    <tr>\n",
       "      <th>4</th>\n",
       "      <td>15/11/2021</td>\n",
       "      <td>64.0</td>\n",
       "      <td>290.0</td>\n",
       "      <td>2021-11-14 18:26:00+00:00</td>\n",
       "      <td>2021-11-15 02:31:00+00:00</td>\n",
       "      <td>72.0</td>\n",
       "      <td>0 days 08:05:00</td>\n",
       "      <td>8.0</td>\n",
       "    </tr>\n",
       "    <tr>\n",
       "      <th>5</th>\n",
       "      <td>16/11/2021</td>\n",
       "      <td>60.0</td>\n",
       "      <td>422.0</td>\n",
       "      <td>2021-11-15 19:11:00+00:00</td>\n",
       "      <td>2021-11-16 04:06:00+00:00</td>\n",
       "      <td>46.0</td>\n",
       "      <td>0 days 08:55:00</td>\n",
       "      <td>9.0</td>\n",
       "    </tr>\n",
       "    <tr>\n",
       "      <th>6</th>\n",
       "      <td>17/11/2021</td>\n",
       "      <td>34.0</td>\n",
       "      <td>267.0</td>\n",
       "      <td>2021-11-16 19:27:00+00:00</td>\n",
       "      <td>2021-11-17 01:40:00+00:00</td>\n",
       "      <td>72.0</td>\n",
       "      <td>0 days 06:13:00</td>\n",
       "      <td>6.0</td>\n",
       "    </tr>\n",
       "    <tr>\n",
       "      <th>7</th>\n",
       "      <td>18/11/2021</td>\n",
       "      <td>72.0</td>\n",
       "      <td>198.0</td>\n",
       "      <td>2021-11-17 19:35:00+00:00</td>\n",
       "      <td>2021-11-18 01:48:00+00:00</td>\n",
       "      <td>91.0</td>\n",
       "      <td>0 days 06:13:00</td>\n",
       "      <td>6.0</td>\n",
       "    </tr>\n",
       "  </tbody>\n",
       "</table>\n",
       "</div>"
      ],
      "text/plain": [
       "         date  deepSleepTime  shallowSleepTime                     start  \\\n",
       "1  12/11/2021           61.0             400.0 2021-11-11 19:52:00+00:00   \n",
       "4  15/11/2021           64.0             290.0 2021-11-14 18:26:00+00:00   \n",
       "5  16/11/2021           60.0             422.0 2021-11-15 19:11:00+00:00   \n",
       "6  17/11/2021           34.0             267.0 2021-11-16 19:27:00+00:00   \n",
       "7  18/11/2021           72.0             198.0 2021-11-17 19:35:00+00:00   \n",
       "\n",
       "                       stop  REMTime            diff  hours  \n",
       "1 2021-11-12 04:11:00+00:00     36.0 0 days 08:19:00    8.0  \n",
       "4 2021-11-15 02:31:00+00:00     72.0 0 days 08:05:00    8.0  \n",
       "5 2021-11-16 04:06:00+00:00     46.0 0 days 08:55:00    9.0  \n",
       "6 2021-11-17 01:40:00+00:00     72.0 0 days 06:13:00    6.0  \n",
       "7 2021-11-18 01:48:00+00:00     91.0 0 days 06:13:00    6.0  "
      ]
     },
     "execution_count": 51,
     "metadata": {},
     "output_type": "execute_result"
    }
   ],
   "source": [
    "#drop rows with 0 val\n",
    "sleepdat.drop(sleepdat[sleepdat['deepSleepTime'] == 0].index, inplace = True)\n",
    "#first five rows\n",
    "sleepdat.head()"
   ]
  },
  {
   "cell_type": "markdown",
   "id": "37b54cdd",
   "metadata": {},
   "source": [
    "Nice, now that we have the columns needed and no 0 values let's check the statistical summary."
   ]
  },
  {
   "cell_type": "code",
   "execution_count": 52,
   "id": "2889a575",
   "metadata": {},
   "outputs": [
    {
     "data": {
      "text/html": [
       "<div>\n",
       "<style scoped>\n",
       "    .dataframe tbody tr th:only-of-type {\n",
       "        vertical-align: middle;\n",
       "    }\n",
       "\n",
       "    .dataframe tbody tr th {\n",
       "        vertical-align: top;\n",
       "    }\n",
       "\n",
       "    .dataframe thead th {\n",
       "        text-align: right;\n",
       "    }\n",
       "</style>\n",
       "<table border=\"1\" class=\"dataframe\">\n",
       "  <thead>\n",
       "    <tr style=\"text-align: right;\">\n",
       "      <th></th>\n",
       "      <th>deepSleepTime</th>\n",
       "      <th>shallowSleepTime</th>\n",
       "      <th>REMTime</th>\n",
       "      <th>diff</th>\n",
       "      <th>hours</th>\n",
       "    </tr>\n",
       "  </thead>\n",
       "  <tbody>\n",
       "    <tr>\n",
       "      <th>count</th>\n",
       "      <td>283.000000</td>\n",
       "      <td>283.000000</td>\n",
       "      <td>283.000000</td>\n",
       "      <td>283</td>\n",
       "      <td>283.000000</td>\n",
       "    </tr>\n",
       "    <tr>\n",
       "      <th>mean</th>\n",
       "      <td>64.226148</td>\n",
       "      <td>276.978799</td>\n",
       "      <td>59.830389</td>\n",
       "      <td>0 days 06:55:41.978798586</td>\n",
       "      <td>6.915194</td>\n",
       "    </tr>\n",
       "    <tr>\n",
       "      <th>std</th>\n",
       "      <td>25.520783</td>\n",
       "      <td>83.351470</td>\n",
       "      <td>29.783013</td>\n",
       "      <td>0 days 01:43:11.158558575</td>\n",
       "      <td>1.696852</td>\n",
       "    </tr>\n",
       "    <tr>\n",
       "      <th>min</th>\n",
       "      <td>1.000000</td>\n",
       "      <td>44.000000</td>\n",
       "      <td>0.000000</td>\n",
       "      <td>0 days 01:21:00</td>\n",
       "      <td>1.000000</td>\n",
       "    </tr>\n",
       "    <tr>\n",
       "      <th>25%</th>\n",
       "      <td>47.000000</td>\n",
       "      <td>222.000000</td>\n",
       "      <td>39.000000</td>\n",
       "      <td>0 days 05:57:30</td>\n",
       "      <td>6.000000</td>\n",
       "    </tr>\n",
       "    <tr>\n",
       "      <th>50%</th>\n",
       "      <td>63.000000</td>\n",
       "      <td>284.000000</td>\n",
       "      <td>54.000000</td>\n",
       "      <td>0 days 07:10:00</td>\n",
       "      <td>7.000000</td>\n",
       "    </tr>\n",
       "    <tr>\n",
       "      <th>75%</th>\n",
       "      <td>80.000000</td>\n",
       "      <td>338.500000</td>\n",
       "      <td>74.000000</td>\n",
       "      <td>0 days 08:04:30</td>\n",
       "      <td>8.000000</td>\n",
       "    </tr>\n",
       "    <tr>\n",
       "      <th>max</th>\n",
       "      <td>153.000000</td>\n",
       "      <td>510.000000</td>\n",
       "      <td>187.000000</td>\n",
       "      <td>0 days 10:55:00</td>\n",
       "      <td>11.000000</td>\n",
       "    </tr>\n",
       "  </tbody>\n",
       "</table>\n",
       "</div>"
      ],
      "text/plain": [
       "       deepSleepTime  shallowSleepTime     REMTime                       diff  \\\n",
       "count     283.000000        283.000000  283.000000                        283   \n",
       "mean       64.226148        276.978799   59.830389  0 days 06:55:41.978798586   \n",
       "std        25.520783         83.351470   29.783013  0 days 01:43:11.158558575   \n",
       "min         1.000000         44.000000    0.000000            0 days 01:21:00   \n",
       "25%        47.000000        222.000000   39.000000            0 days 05:57:30   \n",
       "50%        63.000000        284.000000   54.000000            0 days 07:10:00   \n",
       "75%        80.000000        338.500000   74.000000            0 days 08:04:30   \n",
       "max       153.000000        510.000000  187.000000            0 days 10:55:00   \n",
       "\n",
       "            hours  \n",
       "count  283.000000  \n",
       "mean     6.915194  \n",
       "std      1.696852  \n",
       "min      1.000000  \n",
       "25%      6.000000  \n",
       "50%      7.000000  \n",
       "75%      8.000000  \n",
       "max     11.000000  "
      ]
     },
     "execution_count": 52,
     "metadata": {},
     "output_type": "execute_result"
    }
   ],
   "source": [
    "sleepdat.describe()"
   ]
  },
  {
   "cell_type": "markdown",
   "id": "986a7c15",
   "metadata": {},
   "source": [
    "All looks good, now let's plot it out nicely. I should probably stick to a better sleep schedule"
   ]
  },
  {
   "cell_type": "code",
   "execution_count": 53,
   "id": "4dfbadff",
   "metadata": {},
   "outputs": [
    {
     "data": {
      "image/png": "[encoded data removed]",
      "text/plain": [
       "<Figure size 432x288 with 1 Axes>"
      ]
     },
     "metadata": {
      "needs_background": "light"
     },
     "output_type": "display_data"
    }
   ],
   "source": [
    "sleepdat['hours'].plot(color = \"mediumseagreen\")\n",
    "plt.title('Hours of Sleep (11.12.21-11.27.22)')\n",
    "plt.ylabel('Hours')\n",
    "plt.show()"
   ]
  },
  {
   "cell_type": "markdown",
   "id": "358cd83c",
   "metadata": {},
   "source": [
    "Let's plot the sleep data another way....How about a distribution?"
   ]
  },
  {
   "cell_type": "code",
   "execution_count": 56,
   "id": "24e3896b",
   "metadata": {},
   "outputs": [
    {
     "data": {
      "image/png": "[encoded data removed]",
      "text/plain": [
       "<Figure size 360x360 with 1 Axes>"
      ]
     },
     "metadata": {
      "needs_background": "light"
     },
     "output_type": "display_data"
    }
   ],
   "source": [
    "sns.displot(sleepdat['hours'], color=\"mediumseagreen\")\n",
    "plt.title(\"My Sleep Distribution\")\n",
    "plt.xlabel(\"Hours\")\n",
    "plt.show()"
   ]
  },
  {
   "cell_type": "markdown",
   "id": "b486fbe2",
   "metadata": {},
   "source": [
    "Add columns and label for the day of the week "
   ]
  },
  {
   "cell_type": "code",
   "execution_count": 69,
   "id": "6fceaadd",
   "metadata": {},
   "outputs": [
    {
     "data": {
      "text/html": [
       "<div>\n",
       "<style scoped>\n",
       "    .dataframe tbody tr th:only-of-type {\n",
       "        vertical-align: middle;\n",
       "    }\n",
       "\n",
       "    .dataframe tbody tr th {\n",
       "        vertical-align: top;\n",
       "    }\n",
       "\n",
       "    .dataframe thead th {\n",
       "        text-align: right;\n",
       "    }\n",
       "</style>\n",
       "<table border=\"1\" class=\"dataframe\">\n",
       "  <thead>\n",
       "    <tr style=\"text-align: right;\">\n",
       "      <th></th>\n",
       "      <th>date</th>\n",
       "      <th>deepSleepTime</th>\n",
       "      <th>shallowSleepTime</th>\n",
       "      <th>start</th>\n",
       "      <th>stop</th>\n",
       "      <th>REMTime</th>\n",
       "      <th>diff</th>\n",
       "      <th>hours</th>\n",
       "      <th>day</th>\n",
       "    </tr>\n",
       "  </thead>\n",
       "  <tbody>\n",
       "    <tr>\n",
       "      <th>1</th>\n",
       "      <td>2021-12-11</td>\n",
       "      <td>61.0</td>\n",
       "      <td>400.0</td>\n",
       "      <td>2021-11-11 19:52:00+00:00</td>\n",
       "      <td>2021-11-12 04:11:00+00:00</td>\n",
       "      <td>36.0</td>\n",
       "      <td>0 days 08:19:00</td>\n",
       "      <td>8.0</td>\n",
       "      <td>5</td>\n",
       "    </tr>\n",
       "    <tr>\n",
       "      <th>4</th>\n",
       "      <td>2021-11-15</td>\n",
       "      <td>64.0</td>\n",
       "      <td>290.0</td>\n",
       "      <td>2021-11-14 18:26:00+00:00</td>\n",
       "      <td>2021-11-15 02:31:00+00:00</td>\n",
       "      <td>72.0</td>\n",
       "      <td>0 days 08:05:00</td>\n",
       "      <td>8.0</td>\n",
       "      <td>0</td>\n",
       "    </tr>\n",
       "    <tr>\n",
       "      <th>5</th>\n",
       "      <td>2021-11-16</td>\n",
       "      <td>60.0</td>\n",
       "      <td>422.0</td>\n",
       "      <td>2021-11-15 19:11:00+00:00</td>\n",
       "      <td>2021-11-16 04:06:00+00:00</td>\n",
       "      <td>46.0</td>\n",
       "      <td>0 days 08:55:00</td>\n",
       "      <td>9.0</td>\n",
       "      <td>1</td>\n",
       "    </tr>\n",
       "    <tr>\n",
       "      <th>6</th>\n",
       "      <td>2021-11-17</td>\n",
       "      <td>34.0</td>\n",
       "      <td>267.0</td>\n",
       "      <td>2021-11-16 19:27:00+00:00</td>\n",
       "      <td>2021-11-17 01:40:00+00:00</td>\n",
       "      <td>72.0</td>\n",
       "      <td>0 days 06:13:00</td>\n",
       "      <td>6.0</td>\n",
       "      <td>2</td>\n",
       "    </tr>\n",
       "    <tr>\n",
       "      <th>7</th>\n",
       "      <td>2021-11-18</td>\n",
       "      <td>72.0</td>\n",
       "      <td>198.0</td>\n",
       "      <td>2021-11-17 19:35:00+00:00</td>\n",
       "      <td>2021-11-18 01:48:00+00:00</td>\n",
       "      <td>91.0</td>\n",
       "      <td>0 days 06:13:00</td>\n",
       "      <td>6.0</td>\n",
       "      <td>3</td>\n",
       "    </tr>\n",
       "  </tbody>\n",
       "</table>\n",
       "</div>"
      ],
      "text/plain": [
       "        date  deepSleepTime  shallowSleepTime                     start  \\\n",
       "1 2021-12-11           61.0             400.0 2021-11-11 19:52:00+00:00   \n",
       "4 2021-11-15           64.0             290.0 2021-11-14 18:26:00+00:00   \n",
       "5 2021-11-16           60.0             422.0 2021-11-15 19:11:00+00:00   \n",
       "6 2021-11-17           34.0             267.0 2021-11-16 19:27:00+00:00   \n",
       "7 2021-11-18           72.0             198.0 2021-11-17 19:35:00+00:00   \n",
       "\n",
       "                       stop  REMTime            diff  hours  day  \n",
       "1 2021-11-12 04:11:00+00:00     36.0 0 days 08:19:00    8.0    5  \n",
       "4 2021-11-15 02:31:00+00:00     72.0 0 days 08:05:00    8.0    0  \n",
       "5 2021-11-16 04:06:00+00:00     46.0 0 days 08:55:00    9.0    1  \n",
       "6 2021-11-17 01:40:00+00:00     72.0 0 days 06:13:00    6.0    2  \n",
       "7 2021-11-18 01:48:00+00:00     91.0 0 days 06:13:00    6.0    3  "
      ]
     },
     "execution_count": 69,
     "metadata": {},
     "output_type": "execute_result"
    }
   ],
   "source": [
    "#convert date column to datetime objects\n",
    "sleepdat[\"date\"] = pd.to_datetime(sleepdat[\"date\"], format = \"%d/%m/%Y\")\n",
    "\n",
    "# Extract the day of the week from the date column\n",
    "sleepdat[\"day\"] = sleepdat[\"date\"].dt.weekday\n",
    "sleepdat.head()"
   ]
  },
  {
   "cell_type": "code",
   "execution_count": 72,
   "id": "a0b32cb0",
   "metadata": {},
   "outputs": [
    {
     "data": {
      "text/html": [
       "<div>\n",
       "<style scoped>\n",
       "    .dataframe tbody tr th:only-of-type {\n",
       "        vertical-align: middle;\n",
       "    }\n",
       "\n",
       "    .dataframe tbody tr th {\n",
       "        vertical-align: top;\n",
       "    }\n",
       "\n",
       "    .dataframe thead th {\n",
       "        text-align: right;\n",
       "    }\n",
       "</style>\n",
       "<table border=\"1\" class=\"dataframe\">\n",
       "  <thead>\n",
       "    <tr style=\"text-align: right;\">\n",
       "      <th></th>\n",
       "      <th>date</th>\n",
       "      <th>deepSleepTime</th>\n",
       "      <th>shallowSleepTime</th>\n",
       "      <th>start</th>\n",
       "      <th>stop</th>\n",
       "      <th>REMTime</th>\n",
       "      <th>diff</th>\n",
       "      <th>hours</th>\n",
       "      <th>day</th>\n",
       "      <th>day_of_week</th>\n",
       "    </tr>\n",
       "  </thead>\n",
       "  <tbody>\n",
       "    <tr>\n",
       "      <th>1</th>\n",
       "      <td>2021-12-11</td>\n",
       "      <td>61.0</td>\n",
       "      <td>400.0</td>\n",
       "      <td>2021-11-11 19:52:00+00:00</td>\n",
       "      <td>2021-11-12 04:11:00+00:00</td>\n",
       "      <td>36.0</td>\n",
       "      <td>0 days 08:19:00</td>\n",
       "      <td>8.0</td>\n",
       "      <td>5</td>\n",
       "      <td>Saturday</td>\n",
       "    </tr>\n",
       "    <tr>\n",
       "      <th>4</th>\n",
       "      <td>2021-11-15</td>\n",
       "      <td>64.0</td>\n",
       "      <td>290.0</td>\n",
       "      <td>2021-11-14 18:26:00+00:00</td>\n",
       "      <td>2021-11-15 02:31:00+00:00</td>\n",
       "      <td>72.0</td>\n",
       "      <td>0 days 08:05:00</td>\n",
       "      <td>8.0</td>\n",
       "      <td>0</td>\n",
       "      <td>Monday</td>\n",
       "    </tr>\n",
       "    <tr>\n",
       "      <th>5</th>\n",
       "      <td>2021-11-16</td>\n",
       "      <td>60.0</td>\n",
       "      <td>422.0</td>\n",
       "      <td>2021-11-15 19:11:00+00:00</td>\n",
       "      <td>2021-11-16 04:06:00+00:00</td>\n",
       "      <td>46.0</td>\n",
       "      <td>0 days 08:55:00</td>\n",
       "      <td>9.0</td>\n",
       "      <td>1</td>\n",
       "      <td>Tuesday</td>\n",
       "    </tr>\n",
       "    <tr>\n",
       "      <th>6</th>\n",
       "      <td>2021-11-17</td>\n",
       "      <td>34.0</td>\n",
       "      <td>267.0</td>\n",
       "      <td>2021-11-16 19:27:00+00:00</td>\n",
       "      <td>2021-11-17 01:40:00+00:00</td>\n",
       "      <td>72.0</td>\n",
       "      <td>0 days 06:13:00</td>\n",
       "      <td>6.0</td>\n",
       "      <td>2</td>\n",
       "      <td>Wednesday</td>\n",
       "    </tr>\n",
       "    <tr>\n",
       "      <th>7</th>\n",
       "      <td>2021-11-18</td>\n",
       "      <td>72.0</td>\n",
       "      <td>198.0</td>\n",
       "      <td>2021-11-17 19:35:00+00:00</td>\n",
       "      <td>2021-11-18 01:48:00+00:00</td>\n",
       "      <td>91.0</td>\n",
       "      <td>0 days 06:13:00</td>\n",
       "      <td>6.0</td>\n",
       "      <td>3</td>\n",
       "      <td>Thursday</td>\n",
       "    </tr>\n",
       "  </tbody>\n",
       "</table>\n",
       "</div>"
      ],
      "text/plain": [
       "        date  deepSleepTime  shallowSleepTime                     start  \\\n",
       "1 2021-12-11           61.0             400.0 2021-11-11 19:52:00+00:00   \n",
       "4 2021-11-15           64.0             290.0 2021-11-14 18:26:00+00:00   \n",
       "5 2021-11-16           60.0             422.0 2021-11-15 19:11:00+00:00   \n",
       "6 2021-11-17           34.0             267.0 2021-11-16 19:27:00+00:00   \n",
       "7 2021-11-18           72.0             198.0 2021-11-17 19:35:00+00:00   \n",
       "\n",
       "                       stop  REMTime            diff  hours  day day_of_week  \n",
       "1 2021-11-12 04:11:00+00:00     36.0 0 days 08:19:00    8.0    5    Saturday  \n",
       "4 2021-11-15 02:31:00+00:00     72.0 0 days 08:05:00    8.0    0      Monday  \n",
       "5 2021-11-16 04:06:00+00:00     46.0 0 days 08:55:00    9.0    1     Tuesday  \n",
       "6 2021-11-17 01:40:00+00:00     72.0 0 days 06:13:00    6.0    2   Wednesday  \n",
       "7 2021-11-18 01:48:00+00:00     91.0 0 days 06:13:00    6.0    3    Thursday  "
      ]
     },
     "execution_count": 72,
     "metadata": {},
     "output_type": "execute_result"
    }
   ],
   "source": [
    "#lookup table for day of the week\n",
    "days = {0: \"Monday\", 1: \"Tuesday\", 2: \"Wednesday\", 3: \"Thursday\", 4: \"Friday\", \n",
    "        5: \"Saturday\", 6: \"Sunday\"}\n",
    "\n",
    "# Convert the day index to the day of the week using the lookup table\n",
    "sleepdat[\"day_of_week\"] = sleepdat[\"day\"].map(days)\n",
    "\n",
    "#first 5 rows\n",
    "sleepdat.head()"
   ]
  },
  {
   "cell_type": "markdown",
   "id": "d600230e",
   "metadata": {},
   "source": [
    "Wonderful! We should probably check and officially see if we have an even amount of data per day (in case I forgot to put it on one night or the battery died), which I know I did."
   ]
  },
  {
   "cell_type": "code",
   "execution_count": 106,
   "id": "4ba0317c",
   "metadata": {},
   "outputs": [
    {
     "data": {
      "image/png": "[encoded data removed]",
      "text/plain": [
       "<Figure size 432x288 with 1 Axes>"
      ]
     },
     "metadata": {},
     "output_type": "display_data"
    }
   ],
   "source": [
    "# Make a Bar Plot \n",
    "order = ['Sunday', 'Monday', 'Tuesday', 'Wednesday', 'Thursday', 'Friday', 'Saturday']\n",
    "sns.countplot(x='day_of_week', data=sleepdat, palette = \"Set2\", order=order)\n",
    "plt.xticks(rotation=90)\n",
    "plt.xlabel(\"\")\n",
    "plt.show()"
   ]
  },
  {
   "cell_type": "markdown",
   "id": "5b235857",
   "metadata": {},
   "source": [
    "All look pretty even except for Monday and Tuesday"
   ]
  },
  {
   "cell_type": "markdown",
   "id": "10f8c423",
   "metadata": {},
   "source": [
    "How does my sleep vary from day to day? Tuesday seems like a variable"
   ]
  },
  {
   "cell_type": "code",
   "execution_count": 105,
   "id": "faf1216b",
   "metadata": {
    "scrolled": false
   },
   "outputs": [
    {
     "data": {
      "image/png": "[encoded data removed]",
      "text/plain": [
       "<Figure size 432x288 with 1 Axes>"
      ]
     },
     "metadata": {},
     "output_type": "display_data"
    }
   ],
   "source": [
    "sns.stripplot(x='day_of_week', y= 'hours', data = sleepdat, order=order )\n",
    "plt.xticks(rotation=90)\n",
    "plt.ylabel('hours')\n",
    "plt.show()"
   ]
  },
  {
   "cell_type": "markdown",
   "id": "8d50c4bb",
   "metadata": {},
   "source": [
    "Violin plot maybe for a better view"
   ]
  },
  {
   "cell_type": "code",
   "execution_count": 104,
   "id": "ba6e8984",
   "metadata": {
    "scrolled": true
   },
   "outputs": [
    {
     "data": {
      "image/png": "[encoded data removed]",
      "text/plain": [
       "<Figure size 432x288 with 1 Axes>"
      ]
     },
     "metadata": {},
     "output_type": "display_data"
    }
   ],
   "source": [
    "sns.violinplot(x='day_of_week',\n",
    "               y='hours', \n",
    "               data=sleepdat, \n",
    "               inner=None, palette = 'Set2' ) # Remove the bars inside the violins\n",
    "\n",
    "## plot the dots we see above over the violin plot.\n",
    "sns.stripplot(x='day_of_week', y= 'hours', data = sleepdat, order=order )\n",
    "plt.xticks(rotation=45)\n",
    "plt.ylabel('hours')\n",
    "# Set title with matplotlib\n",
    "plt.title('Sleep by Day')\n",
    "plt.xticks(rotation=90)\n",
    "plt.show()"
   ]
  },
  {
   "cell_type": "markdown",
   "id": "c087fd4a",
   "metadata": {},
   "source": [
    "Let's try a box plot to clearly see the standard errors of my sleep schedule"
   ]
  },
  {
   "cell_type": "code",
   "execution_count": 103,
   "id": "0dacd8f2",
   "metadata": {},
   "outputs": [
    {
     "data": {
      "image/png": "[encoded data removed]",
      "text/plain": [
       "<Figure size 432x288 with 1 Axes>"
      ]
     },
     "metadata": {},
     "output_type": "display_data"
    }
   ],
   "source": [
    "sns.boxplot(x = 'day_of_week', y = 'hours', data = sleepdat, palette = 'Set2', order=order)\n",
    "plt.title('Hours of Sleep by Day')\n",
    "plt.xticks(rotation=90)\n",
    "plt.xlabel(\"\") \n",
    "plt.ylabel(\"\")\n",
    "plt.show()"
   ]
  },
  {
   "cell_type": "markdown",
   "id": "b760bc4b",
   "metadata": {},
   "source": [
    "Yeah, you can clearly see on Sundays my sleep schedule is definitely paranormal."
   ]
  },
  {
   "cell_type": "markdown",
   "id": "09688868",
   "metadata": {},
   "source": [
    "### Step data"
   ]
  },
  {
   "cell_type": "markdown",
   "id": "b02f9ca3",
   "metadata": {},
   "source": [
    "Let's read it in!"
   ]
  },
  {
   "cell_type": "code",
   "execution_count": 83,
   "id": "65e88ba8",
   "metadata": {},
   "outputs": [
    {
     "data": {
      "text/html": [
       "<div>\n",
       "<style scoped>\n",
       "    .dataframe tbody tr th:only-of-type {\n",
       "        vertical-align: middle;\n",
       "    }\n",
       "\n",
       "    .dataframe tbody tr th {\n",
       "        vertical-align: top;\n",
       "    }\n",
       "\n",
       "    .dataframe thead th {\n",
       "        text-align: right;\n",
       "    }\n",
       "</style>\n",
       "<table border=\"1\" class=\"dataframe\">\n",
       "  <thead>\n",
       "    <tr style=\"text-align: right;\">\n",
       "      <th></th>\n",
       "      <th>date</th>\n",
       "      <th>steps</th>\n",
       "      <th>distance</th>\n",
       "      <th>runDistance</th>\n",
       "      <th>calories</th>\n",
       "    </tr>\n",
       "  </thead>\n",
       "  <tbody>\n",
       "    <tr>\n",
       "      <th>0</th>\n",
       "      <td>11/11/2021</td>\n",
       "      <td>2821</td>\n",
       "      <td>1995</td>\n",
       "      <td>144</td>\n",
       "      <td>62</td>\n",
       "    </tr>\n",
       "    <tr>\n",
       "      <th>1</th>\n",
       "      <td>12/11/2021</td>\n",
       "      <td>10629</td>\n",
       "      <td>7876</td>\n",
       "      <td>583</td>\n",
       "      <td>263</td>\n",
       "    </tr>\n",
       "    <tr>\n",
       "      <th>2</th>\n",
       "      <td>13/11/2021</td>\n",
       "      <td>4358</td>\n",
       "      <td>3012</td>\n",
       "      <td>282</td>\n",
       "      <td>105</td>\n",
       "    </tr>\n",
       "    <tr>\n",
       "      <th>3</th>\n",
       "      <td>14/11/2021</td>\n",
       "      <td>1901</td>\n",
       "      <td>1384</td>\n",
       "      <td>87</td>\n",
       "      <td>44</td>\n",
       "    </tr>\n",
       "    <tr>\n",
       "      <th>4</th>\n",
       "      <td>15/11/2021</td>\n",
       "      <td>7702</td>\n",
       "      <td>5500</td>\n",
       "      <td>300</td>\n",
       "      <td>174</td>\n",
       "    </tr>\n",
       "  </tbody>\n",
       "</table>\n",
       "</div>"
      ],
      "text/plain": [
       "         date  steps  distance  runDistance  calories\n",
       "0  11/11/2021   2821      1995          144        62\n",
       "1  12/11/2021  10629      7876          583       263\n",
       "2  13/11/2021   4358      3012          282       105\n",
       "3  14/11/2021   1901      1384           87        44\n",
       "4  15/11/2021   7702      5500          300       174"
      ]
     },
     "execution_count": 83,
     "metadata": {},
     "output_type": "execute_result"
    }
   ],
   "source": [
    "#file path\n",
    "step_data = pd.read_csv(\"E:/Studies/GitHub/Projects/Exploring my MiFit Data/Bett's MiBand Data/Activity/ACTIVITY_1671526160413.csv\")\n",
    "\n",
    "#first 5 rows\n",
    "step_data.head()"
   ]
  },
  {
   "cell_type": "markdown",
   "id": "6f12a3ad",
   "metadata": {},
   "source": [
    "Let's add a column for the day of the week just as before"
   ]
  },
  {
   "cell_type": "code",
   "execution_count": 88,
   "id": "39ad1b5a",
   "metadata": {},
   "outputs": [
    {
     "data": {
      "text/html": [
       "<div>\n",
       "<style scoped>\n",
       "    .dataframe tbody tr th:only-of-type {\n",
       "        vertical-align: middle;\n",
       "    }\n",
       "\n",
       "    .dataframe tbody tr th {\n",
       "        vertical-align: top;\n",
       "    }\n",
       "\n",
       "    .dataframe thead th {\n",
       "        text-align: right;\n",
       "    }\n",
       "</style>\n",
       "<table border=\"1\" class=\"dataframe\">\n",
       "  <thead>\n",
       "    <tr style=\"text-align: right;\">\n",
       "      <th></th>\n",
       "      <th>date</th>\n",
       "      <th>steps</th>\n",
       "      <th>distance</th>\n",
       "      <th>runDistance</th>\n",
       "      <th>calories</th>\n",
       "      <th>day</th>\n",
       "      <th>day_of_week</th>\n",
       "    </tr>\n",
       "  </thead>\n",
       "  <tbody>\n",
       "    <tr>\n",
       "      <th>0</th>\n",
       "      <td>2021-11-11</td>\n",
       "      <td>2821</td>\n",
       "      <td>1995</td>\n",
       "      <td>144</td>\n",
       "      <td>62</td>\n",
       "      <td>3</td>\n",
       "      <td>Thursday</td>\n",
       "    </tr>\n",
       "    <tr>\n",
       "      <th>1</th>\n",
       "      <td>2021-11-12</td>\n",
       "      <td>10629</td>\n",
       "      <td>7876</td>\n",
       "      <td>583</td>\n",
       "      <td>263</td>\n",
       "      <td>4</td>\n",
       "      <td>Friday</td>\n",
       "    </tr>\n",
       "    <tr>\n",
       "      <th>2</th>\n",
       "      <td>2021-11-13</td>\n",
       "      <td>4358</td>\n",
       "      <td>3012</td>\n",
       "      <td>282</td>\n",
       "      <td>105</td>\n",
       "      <td>5</td>\n",
       "      <td>Saturday</td>\n",
       "    </tr>\n",
       "    <tr>\n",
       "      <th>3</th>\n",
       "      <td>2021-11-14</td>\n",
       "      <td>1901</td>\n",
       "      <td>1384</td>\n",
       "      <td>87</td>\n",
       "      <td>44</td>\n",
       "      <td>6</td>\n",
       "      <td>Sunday</td>\n",
       "    </tr>\n",
       "    <tr>\n",
       "      <th>4</th>\n",
       "      <td>2021-11-15</td>\n",
       "      <td>7702</td>\n",
       "      <td>5500</td>\n",
       "      <td>300</td>\n",
       "      <td>174</td>\n",
       "      <td>0</td>\n",
       "      <td>Monday</td>\n",
       "    </tr>\n",
       "  </tbody>\n",
       "</table>\n",
       "</div>"
      ],
      "text/plain": [
       "        date  steps  distance  runDistance  calories  day day_of_week\n",
       "0 2021-11-11   2821      1995          144        62    3    Thursday\n",
       "1 2021-11-12  10629      7876          583       263    4      Friday\n",
       "2 2021-11-13   4358      3012          282       105    5    Saturday\n",
       "3 2021-11-14   1901      1384           87        44    6      Sunday\n",
       "4 2021-11-15   7702      5500          300       174    0      Monday"
      ]
     },
     "execution_count": 88,
     "metadata": {},
     "output_type": "execute_result"
    }
   ],
   "source": [
    "#convert date column to datetime objects\n",
    "step_data[\"date\"] = pd.to_datetime(step_data[\"date\"], format = \"%d/%m/%Y\")\n",
    "\n",
    "# Extract the day of the week from the date column\n",
    "step_data[\"day\"] = step_data[\"date\"].dt.weekday\n",
    "\n",
    "#lookup table for day of the week\n",
    "days = {0: \"Monday\", 1: \"Tuesday\", 2: \"Wednesday\", 3: \"Thursday\", 4: \"Friday\", \n",
    "        5: \"Saturday\", 6: \"Sunday\"}\n",
    "\n",
    "# Convert the day index to the day of the week using the lookup table\n",
    "step_data[\"day_of_week\"] = step_data[\"day\"].map(days)\n",
    "\n",
    "#first 5 rows\n",
    "step_data.head()"
   ]
  },
  {
   "cell_type": "markdown",
   "id": "c5350c72",
   "metadata": {},
   "source": [
    "Awesome! Now before we move on let's check if the steps column are in the correct datatype"
   ]
  },
  {
   "cell_type": "code",
   "execution_count": 89,
   "id": "6b2ec737",
   "metadata": {},
   "outputs": [
    {
     "name": "stdout",
     "output_type": "stream",
     "text": [
      "<class 'pandas.core.frame.DataFrame'>\n",
      "RangeIndex: 370 entries, 0 to 369\n",
      "Data columns (total 7 columns):\n",
      " #   Column       Non-Null Count  Dtype         \n",
      "---  ------       --------------  -----         \n",
      " 0   date         370 non-null    datetime64[ns]\n",
      " 1   steps        370 non-null    int64         \n",
      " 2   distance     370 non-null    int64         \n",
      " 3   runDistance  370 non-null    int64         \n",
      " 4   calories     370 non-null    int64         \n",
      " 5   day          370 non-null    int64         \n",
      " 6   day_of_week  370 non-null    object        \n",
      "dtypes: datetime64[ns](1), int64(5), object(1)\n",
      "memory usage: 20.4+ KB\n"
     ]
    }
   ],
   "source": [
    "step_data.info()"
   ]
  },
  {
   "cell_type": "markdown",
   "id": "2b31aebf",
   "metadata": {},
   "source": [
    "Great it is numeric, let's see my step distribution...."
   ]
  },
  {
   "cell_type": "code",
   "execution_count": 91,
   "id": "53427810",
   "metadata": {},
   "outputs": [
    {
     "data": {
      "image/png": "[encoded data removed]",
      "text/plain": [
       "<Figure size 360x360 with 1 Axes>"
      ]
     },
     "metadata": {},
     "output_type": "display_data"
    }
   ],
   "source": [
    "sns.set_style(\"ticks\")\n",
    "sns.displot(step_data['steps'], color = 'steelblue')\n",
    "plt.title(\"Step Distribution\")\n",
    "plt.xlabel(\"Steps\") \n",
    "plt.show()"
   ]
  },
  {
   "cell_type": "markdown",
   "id": "11984185",
   "metadata": {},
   "source": [
    "Interesting, the distribution is skewed to the right, I'm guessing towards Friday I was either indoors much or outside since it's the weekend.\n",
    "Anywho, let's see the steps by day instead of playing the guessing game."
   ]
  },
  {
   "cell_type": "code",
   "execution_count": 102,
   "id": "8285361b",
   "metadata": {},
   "outputs": [
    {
     "data": {
      "image/png": "[encoded data removed]",
      "text/plain": [
       "<Figure size 432x288 with 1 Axes>"
      ]
     },
     "metadata": {},
     "output_type": "display_data"
    }
   ],
   "source": [
    "sns.violinplot(x='day_of_week',\n",
    "               y='steps', \n",
    "               data=step_data, \n",
    "               inner=None, palette=\"Set3\" ) # Remove the bars inside the violins\n",
    "            \n",
    "## plot the dots we see above over the violin plot.\n",
    "sns.stripplot(x='day_of_week', y= 'steps', data = step_data, order=order )\n",
    "plt.xticks(rotation=45)\n",
    "plt.xlabel('day_of_week')\n",
    "plt.ylabel('steps')\n",
    "plt.title('Steps by Day')\n",
    "plt.xticks(rotation=90)\n",
    "plt.show()"
   ]
  },
  {
   "cell_type": "markdown",
   "id": "029f9663",
   "metadata": {},
   "source": [
    "Boxplot to see the standard errors in my steps clearly"
   ]
  },
  {
   "cell_type": "code",
   "execution_count": 101,
   "id": "1fb42339",
   "metadata": {},
   "outputs": [
    {
     "data": {
      "image/png": "[encoded data removed]",
      "text/plain": [
       "<Figure size 432x288 with 1 Axes>"
      ]
     },
     "metadata": {},
     "output_type": "display_data"
    }
   ],
   "source": [
    "sns.boxplot(x = 'day_of_week', y = 'steps', data = step_data, palette=\"Set3\", order=order)\n",
    "plt.title('Steps by Day')\n",
    "plt.xticks(rotation=90)\n",
    "plt.xlabel(\"\") \n",
    "plt.ylabel(\"\")\n",
    "plt.show()"
   ]
  },
  {
   "cell_type": "markdown",
   "id": "064b895c",
   "metadata": {},
   "source": [
    "## 3. Analyses!"
   ]
  },
  {
   "cell_type": "markdown",
   "id": "6af09288",
   "metadata": {},
   "source": [
    "### Linear Regression model"
   ]
  },
  {
   "cell_type": "markdown",
   "id": "5c67b3e7",
   "metadata": {},
   "source": [
    "### 1. Am I more active on days after I get more sleep?"
   ]
  },
  {
   "cell_type": "markdown",
   "id": "671801c6",
   "metadata": {},
   "source": [
    "In the model below, I am predicting my steps from the hours of sleep I got the night before, using an ordinary least squares regression model. Below is the code for the model, fitting the model, and displaying the results.\n",
    "\n",
    "First, create variable for the previous night's sleep and align it properly."
   ]
  },
  {
   "cell_type": "code",
   "execution_count": 122,
   "id": "c26f2130",
   "metadata": {},
   "outputs": [
    {
     "data": {
      "text/html": [
       "<div>\n",
       "<style scoped>\n",
       "    .dataframe tbody tr th:only-of-type {\n",
       "        vertical-align: middle;\n",
       "    }\n",
       "\n",
       "    .dataframe tbody tr th {\n",
       "        vertical-align: top;\n",
       "    }\n",
       "\n",
       "    .dataframe thead th {\n",
       "        text-align: right;\n",
       "    }\n",
       "</style>\n",
       "<table border=\"1\" class=\"dataframe\">\n",
       "  <thead>\n",
       "    <tr style=\"text-align: right;\">\n",
       "      <th></th>\n",
       "      <th>date</th>\n",
       "      <th>steps</th>\n",
       "      <th>distance</th>\n",
       "      <th>runDistance</th>\n",
       "      <th>calories</th>\n",
       "      <th>day_x</th>\n",
       "      <th>day_of_week_x</th>\n",
       "      <th>deepSleepTime</th>\n",
       "      <th>shallowSleepTime</th>\n",
       "      <th>start</th>\n",
       "      <th>stop</th>\n",
       "      <th>REMTime</th>\n",
       "      <th>diff</th>\n",
       "      <th>hours</th>\n",
       "      <th>day_y</th>\n",
       "      <th>day_of_week_y</th>\n",
       "      <th>hours_prev</th>\n",
       "    </tr>\n",
       "  </thead>\n",
       "  <tbody>\n",
       "    <tr>\n",
       "      <th>0</th>\n",
       "      <td>2021-11-12</td>\n",
       "      <td>10629</td>\n",
       "      <td>7876</td>\n",
       "      <td>583</td>\n",
       "      <td>263</td>\n",
       "      <td>4</td>\n",
       "      <td>Friday</td>\n",
       "      <td>57.0</td>\n",
       "      <td>180.0</td>\n",
       "      <td>2021-12-10 21:31:00+00:00</td>\n",
       "      <td>2021-12-11 02:22:00+00:00</td>\n",
       "      <td>52.0</td>\n",
       "      <td>0 days 04:51:00</td>\n",
       "      <td>5.0</td>\n",
       "      <td>4</td>\n",
       "      <td>Friday</td>\n",
       "      <td>NaN</td>\n",
       "    </tr>\n",
       "    <tr>\n",
       "      <th>1</th>\n",
       "      <td>2021-11-15</td>\n",
       "      <td>7702</td>\n",
       "      <td>5500</td>\n",
       "      <td>300</td>\n",
       "      <td>174</td>\n",
       "      <td>0</td>\n",
       "      <td>Monday</td>\n",
       "      <td>64.0</td>\n",
       "      <td>290.0</td>\n",
       "      <td>2021-11-14 18:26:00+00:00</td>\n",
       "      <td>2021-11-15 02:31:00+00:00</td>\n",
       "      <td>72.0</td>\n",
       "      <td>0 days 08:05:00</td>\n",
       "      <td>8.0</td>\n",
       "      <td>0</td>\n",
       "      <td>Monday</td>\n",
       "      <td>5.0</td>\n",
       "    </tr>\n",
       "    <tr>\n",
       "      <th>2</th>\n",
       "      <td>2021-11-16</td>\n",
       "      <td>3901</td>\n",
       "      <td>2737</td>\n",
       "      <td>134</td>\n",
       "      <td>84</td>\n",
       "      <td>1</td>\n",
       "      <td>Tuesday</td>\n",
       "      <td>60.0</td>\n",
       "      <td>422.0</td>\n",
       "      <td>2021-11-15 19:11:00+00:00</td>\n",
       "      <td>2021-11-16 04:06:00+00:00</td>\n",
       "      <td>46.0</td>\n",
       "      <td>0 days 08:55:00</td>\n",
       "      <td>9.0</td>\n",
       "      <td>1</td>\n",
       "      <td>Tuesday</td>\n",
       "      <td>8.0</td>\n",
       "    </tr>\n",
       "    <tr>\n",
       "      <th>3</th>\n",
       "      <td>2021-11-17</td>\n",
       "      <td>6744</td>\n",
       "      <td>4696</td>\n",
       "      <td>410</td>\n",
       "      <td>147</td>\n",
       "      <td>2</td>\n",
       "      <td>Wednesday</td>\n",
       "      <td>34.0</td>\n",
       "      <td>267.0</td>\n",
       "      <td>2021-11-16 19:27:00+00:00</td>\n",
       "      <td>2021-11-17 01:40:00+00:00</td>\n",
       "      <td>72.0</td>\n",
       "      <td>0 days 06:13:00</td>\n",
       "      <td>6.0</td>\n",
       "      <td>2</td>\n",
       "      <td>Wednesday</td>\n",
       "      <td>9.0</td>\n",
       "    </tr>\n",
       "    <tr>\n",
       "      <th>4</th>\n",
       "      <td>2021-11-18</td>\n",
       "      <td>9303</td>\n",
       "      <td>6636</td>\n",
       "      <td>391</td>\n",
       "      <td>216</td>\n",
       "      <td>3</td>\n",
       "      <td>Thursday</td>\n",
       "      <td>72.0</td>\n",
       "      <td>198.0</td>\n",
       "      <td>2021-11-17 19:35:00+00:00</td>\n",
       "      <td>2021-11-18 01:48:00+00:00</td>\n",
       "      <td>91.0</td>\n",
       "      <td>0 days 06:13:00</td>\n",
       "      <td>6.0</td>\n",
       "      <td>3</td>\n",
       "      <td>Thursday</td>\n",
       "      <td>6.0</td>\n",
       "    </tr>\n",
       "  </tbody>\n",
       "</table>\n",
       "</div>"
      ],
      "text/plain": [
       "        date  steps  distance  runDistance  calories  day_x day_of_week_x  \\\n",
       "0 2021-11-12  10629      7876          583       263      4        Friday   \n",
       "1 2021-11-15   7702      5500          300       174      0        Monday   \n",
       "2 2021-11-16   3901      2737          134        84      1       Tuesday   \n",
       "3 2021-11-17   6744      4696          410       147      2     Wednesday   \n",
       "4 2021-11-18   9303      6636          391       216      3      Thursday   \n",
       "\n",
       "   deepSleepTime  shallowSleepTime                     start  \\\n",
       "0           57.0             180.0 2021-12-10 21:31:00+00:00   \n",
       "1           64.0             290.0 2021-11-14 18:26:00+00:00   \n",
       "2           60.0             422.0 2021-11-15 19:11:00+00:00   \n",
       "3           34.0             267.0 2021-11-16 19:27:00+00:00   \n",
       "4           72.0             198.0 2021-11-17 19:35:00+00:00   \n",
       "\n",
       "                       stop  REMTime            diff  hours  day_y  \\\n",
       "0 2021-12-11 02:22:00+00:00     52.0 0 days 04:51:00    5.0      4   \n",
       "1 2021-11-15 02:31:00+00:00     72.0 0 days 08:05:00    8.0      0   \n",
       "2 2021-11-16 04:06:00+00:00     46.0 0 days 08:55:00    9.0      1   \n",
       "3 2021-11-17 01:40:00+00:00     72.0 0 days 06:13:00    6.0      2   \n",
       "4 2021-11-18 01:48:00+00:00     91.0 0 days 06:13:00    6.0      3   \n",
       "\n",
       "  day_of_week_y  hours_prev  \n",
       "0        Friday         NaN  \n",
       "1        Monday         5.0  \n",
       "2       Tuesday         8.0  \n",
       "3     Wednesday         9.0  \n",
       "4      Thursday         6.0  "
      ]
     },
     "execution_count": 122,
     "metadata": {},
     "output_type": "execute_result"
    }
   ],
   "source": [
    "#merge the dataframes on date column to compare the hours and step data\n",
    "merged_df = pd.merge(step_data, sleepdat, on='date', how='inner')\n",
    "\n",
    "#now create the variable for the previous nights sleep abd align properly\n",
    "merged_df[\"hours_prev\"] = merged_df.shift(1).hours\n",
    "merged_df.head()"
   ]
  },
  {
   "cell_type": "markdown",
   "id": "f21ed979",
   "metadata": {},
   "source": [
    "Awesome! Now let's create a dataframe to only have the relevant columns for analysis"
   ]
  },
  {
   "cell_type": "code",
   "execution_count": 124,
   "id": "d962bb2f",
   "metadata": {},
   "outputs": [
    {
     "data": {
      "text/html": [
       "<div>\n",
       "<style scoped>\n",
       "    .dataframe tbody tr th:only-of-type {\n",
       "        vertical-align: middle;\n",
       "    }\n",
       "\n",
       "    .dataframe tbody tr th {\n",
       "        vertical-align: top;\n",
       "    }\n",
       "\n",
       "    .dataframe thead th {\n",
       "        text-align: right;\n",
       "    }\n",
       "</style>\n",
       "<table border=\"1\" class=\"dataframe\">\n",
       "  <thead>\n",
       "    <tr style=\"text-align: right;\">\n",
       "      <th></th>\n",
       "      <th>date</th>\n",
       "      <th>steps</th>\n",
       "      <th>day_y</th>\n",
       "      <th>day_of_week_y</th>\n",
       "      <th>hours</th>\n",
       "      <th>hours_prev</th>\n",
       "    </tr>\n",
       "  </thead>\n",
       "  <tbody>\n",
       "    <tr>\n",
       "      <th>0</th>\n",
       "      <td>2021-11-12</td>\n",
       "      <td>10629</td>\n",
       "      <td>4</td>\n",
       "      <td>Friday</td>\n",
       "      <td>5.0</td>\n",
       "      <td>NaN</td>\n",
       "    </tr>\n",
       "    <tr>\n",
       "      <th>1</th>\n",
       "      <td>2021-11-15</td>\n",
       "      <td>7702</td>\n",
       "      <td>0</td>\n",
       "      <td>Monday</td>\n",
       "      <td>8.0</td>\n",
       "      <td>5.0</td>\n",
       "    </tr>\n",
       "    <tr>\n",
       "      <th>2</th>\n",
       "      <td>2021-11-16</td>\n",
       "      <td>3901</td>\n",
       "      <td>1</td>\n",
       "      <td>Tuesday</td>\n",
       "      <td>9.0</td>\n",
       "      <td>8.0</td>\n",
       "    </tr>\n",
       "    <tr>\n",
       "      <th>3</th>\n",
       "      <td>2021-11-17</td>\n",
       "      <td>6744</td>\n",
       "      <td>2</td>\n",
       "      <td>Wednesday</td>\n",
       "      <td>6.0</td>\n",
       "      <td>9.0</td>\n",
       "    </tr>\n",
       "    <tr>\n",
       "      <th>4</th>\n",
       "      <td>2021-11-18</td>\n",
       "      <td>9303</td>\n",
       "      <td>3</td>\n",
       "      <td>Thursday</td>\n",
       "      <td>6.0</td>\n",
       "      <td>6.0</td>\n",
       "    </tr>\n",
       "  </tbody>\n",
       "</table>\n",
       "</div>"
      ],
      "text/plain": [
       "        date  steps  day_y day_of_week_y  hours  hours_prev\n",
       "0 2021-11-12  10629      4        Friday    5.0         NaN\n",
       "1 2021-11-15   7702      0        Monday    8.0         5.0\n",
       "2 2021-11-16   3901      1       Tuesday    9.0         8.0\n",
       "3 2021-11-17   6744      2     Wednesday    6.0         9.0\n",
       "4 2021-11-18   9303      3      Thursday    6.0         6.0"
      ]
     },
     "execution_count": 124,
     "metadata": {},
     "output_type": "execute_result"
    }
   ],
   "source": [
    "#select the column\n",
    "stepsdf = merged_df.loc[:,['date', 'steps', 'day_y', 'day_of_week_y', 'hours', 'hours_prev']]\n",
    "stepsdf.head()"
   ]
  },
  {
   "cell_type": "code",
   "execution_count": 126,
   "id": "21f1eba8",
   "metadata": {},
   "outputs": [
    {
     "data": {
      "text/html": [
       "<table class=\"simpletable\">\n",
       "<tr>\n",
       "       <td></td>         <th>coef</th>     <th>std err</th>      <th>t</th>      <th>P>|t|</th>  <th>[0.025</th>    <th>0.975]</th>  \n",
       "</tr>\n",
       "<tr>\n",
       "  <th>Intercept</th>  <td> 6205.3003</td> <td>  920.996</td> <td>    6.738</td> <td> 0.000</td> <td> 4391.837</td> <td> 8018.764</td>\n",
       "</tr>\n",
       "<tr>\n",
       "  <th>hours_prev</th> <td> -108.5052</td> <td>  129.769</td> <td>   -0.836</td> <td> 0.404</td> <td> -364.025</td> <td>  147.014</td>\n",
       "</tr>\n",
       "</table>"
      ],
      "text/plain": [
       "<class 'statsmodels.iolib.table.SimpleTable'>"
      ]
     },
     "execution_count": 126,
     "metadata": {},
     "output_type": "execute_result"
    }
   ],
   "source": [
    "import statsmodels.api as sm\n",
    "import statsmodels.formula.api as smf\n",
    "mod1 = smf.ols(formula = \"steps ~ hours_prev\", data = stepsdf).fit()\n",
    "mod1.summary().tables[1]"
   ]
  },
  {
   "cell_type": "markdown",
   "id": "312a3650",
   "metadata": {},
   "source": [
    "From the regression table we can see that how many hours I slept the previous night(hours_prev) does not predict the amount of steps I take the next day. This might be because of a variety of reasons;\n",
    "1. I only had the band for about 8 months and there are times the battery would have died or I would simply forget to wear the band.\n",
    "2. I'm a Graduate student and my sleep is incredibly variable\n",
    "\n",
    "Long story short is we need more data!"
   ]
  },
  {
   "cell_type": "code",
   "execution_count": 127,
   "id": "dedeab6f",
   "metadata": {},
   "outputs": [
    {
     "data": {
      "image/png": "[encoded data removed]",
      "text/plain": [
       "<Figure size 432x288 with 1 Axes>"
      ]
     },
     "metadata": {},
     "output_type": "display_data"
    }
   ],
   "source": [
    "sns.regplot(x = stepsdf.steps, y = stepsdf.hours_prev, color = 'steelblue')\n",
    "plt.xlabel(\"Daily Steps\")\n",
    "plt.ylabel(\"Hours of Sleep\")\n",
    "plt.title(\"Does Sleep Amount Predict Activity Level?\")\n",
    "plt.show()"
   ]
  },
  {
   "cell_type": "markdown",
   "id": "33faacad",
   "metadata": {},
   "source": [
    "From the graph, we can see the line is flat as a pancake, no linear relationship at all!"
   ]
  },
  {
   "cell_type": "markdown",
   "id": "59e24e9f",
   "metadata": {},
   "source": [
    "### Question 2: Do I need more sleep the night after I don't get a lot of sleep? Am I creating a sleep deficit?"
   ]
  },
  {
   "cell_type": "markdown",
   "id": "30730b91",
   "metadata": {},
   "source": [
    "In the model below, I am predicting the difference in amount of sleep I get from the hours of sleep I got the night before using ordinary least square regression.\n",
    "\n",
    "Let's first create a sleep variable to capture the difference in amount of sleep I got before."
   ]
  },
  {
   "cell_type": "code",
   "execution_count": 129,
   "id": "94641ce5",
   "metadata": {},
   "outputs": [
    {
     "data": {
      "text/html": [
       "<div>\n",
       "<style scoped>\n",
       "    .dataframe tbody tr th:only-of-type {\n",
       "        vertical-align: middle;\n",
       "    }\n",
       "\n",
       "    .dataframe tbody tr th {\n",
       "        vertical-align: top;\n",
       "    }\n",
       "\n",
       "    .dataframe thead th {\n",
       "        text-align: right;\n",
       "    }\n",
       "</style>\n",
       "<table border=\"1\" class=\"dataframe\">\n",
       "  <thead>\n",
       "    <tr style=\"text-align: right;\">\n",
       "      <th></th>\n",
       "      <th>date</th>\n",
       "      <th>steps</th>\n",
       "      <th>day_y</th>\n",
       "      <th>day_of_week_y</th>\n",
       "      <th>hours</th>\n",
       "      <th>hours_prev</th>\n",
       "      <th>hours_diff</th>\n",
       "    </tr>\n",
       "  </thead>\n",
       "  <tbody>\n",
       "    <tr>\n",
       "      <th>0</th>\n",
       "      <td>2021-11-12</td>\n",
       "      <td>10629</td>\n",
       "      <td>4</td>\n",
       "      <td>Friday</td>\n",
       "      <td>5.0</td>\n",
       "      <td>NaN</td>\n",
       "      <td>NaN</td>\n",
       "    </tr>\n",
       "    <tr>\n",
       "      <th>1</th>\n",
       "      <td>2021-11-15</td>\n",
       "      <td>7702</td>\n",
       "      <td>0</td>\n",
       "      <td>Monday</td>\n",
       "      <td>8.0</td>\n",
       "      <td>5.0</td>\n",
       "      <td>3.0</td>\n",
       "    </tr>\n",
       "    <tr>\n",
       "      <th>2</th>\n",
       "      <td>2021-11-16</td>\n",
       "      <td>3901</td>\n",
       "      <td>1</td>\n",
       "      <td>Tuesday</td>\n",
       "      <td>9.0</td>\n",
       "      <td>8.0</td>\n",
       "      <td>1.0</td>\n",
       "    </tr>\n",
       "    <tr>\n",
       "      <th>3</th>\n",
       "      <td>2021-11-17</td>\n",
       "      <td>6744</td>\n",
       "      <td>2</td>\n",
       "      <td>Wednesday</td>\n",
       "      <td>6.0</td>\n",
       "      <td>9.0</td>\n",
       "      <td>-3.0</td>\n",
       "    </tr>\n",
       "    <tr>\n",
       "      <th>4</th>\n",
       "      <td>2021-11-18</td>\n",
       "      <td>9303</td>\n",
       "      <td>3</td>\n",
       "      <td>Thursday</td>\n",
       "      <td>6.0</td>\n",
       "      <td>6.0</td>\n",
       "      <td>0.0</td>\n",
       "    </tr>\n",
       "  </tbody>\n",
       "</table>\n",
       "</div>"
      ],
      "text/plain": [
       "        date  steps  day_y day_of_week_y  hours  hours_prev  hours_diff\n",
       "0 2021-11-12  10629      4        Friday    5.0         NaN         NaN\n",
       "1 2021-11-15   7702      0        Monday    8.0         5.0         3.0\n",
       "2 2021-11-16   3901      1       Tuesday    9.0         8.0         1.0\n",
       "3 2021-11-17   6744      2     Wednesday    6.0         9.0        -3.0\n",
       "4 2021-11-18   9303      3      Thursday    6.0         6.0         0.0"
      ]
     },
     "execution_count": 129,
     "metadata": {},
     "output_type": "execute_result"
    }
   ],
   "source": [
    "stepsdf[\"hours_diff\"] = stepsdf.hours - stepsdf.hours_prev\n",
    "stepsdf.head()"
   ]
  },
  {
   "cell_type": "markdown",
   "id": "a733eaf9",
   "metadata": {},
   "source": [
    "Perfect!"
   ]
  },
  {
   "cell_type": "code",
   "execution_count": 130,
   "id": "d7f4080a",
   "metadata": {},
   "outputs": [
    {
     "data": {
      "text/html": [
       "<table class=\"simpletable\">\n",
       "<tr>\n",
       "       <td></td>         <th>coef</th>     <th>std err</th>      <th>t</th>      <th>P>|t|</th>  <th>[0.025</th>    <th>0.975]</th>  \n",
       "</tr>\n",
       "<tr>\n",
       "  <th>Intercept</th>  <td>    6.4838</td> <td>    0.436</td> <td>   14.868</td> <td> 0.000</td> <td>    5.625</td> <td>    7.342</td>\n",
       "</tr>\n",
       "<tr>\n",
       "  <th>hours_prev</th> <td>   -0.9383</td> <td>    0.061</td> <td>  -15.271</td> <td> 0.000</td> <td>   -1.059</td> <td>   -0.817</td>\n",
       "</tr>\n",
       "</table>"
      ],
      "text/plain": [
       "<class 'statsmodels.iolib.table.SimpleTable'>"
      ]
     },
     "execution_count": 130,
     "metadata": {},
     "output_type": "execute_result"
    }
   ],
   "source": [
    "#fit the model\n",
    "mod2 = smf.ols(formula = 'hours_diff ~ hours_prev', data = stepsdf).fit()\n",
    "mod2.summary().tables[1]"
   ]
  },
  {
   "cell_type": "markdown",
   "id": "198849a6",
   "metadata": {},
   "source": [
    "The model shows that how many hours I slept the previous night ('hours_prev') negatively predicts the amount of sleep I get the next day, this is because we have a negative coefficient from the regression table.\n",
    "\n",
    "Let's visualize the relationship."
   ]
  },
  {
   "cell_type": "code",
   "execution_count": 131,
   "id": "c31478d7",
   "metadata": {},
   "outputs": [
    {
     "data": {
      "image/png": "[encoded data removed]",
      "text/plain": [
       "<Figure size 432x288 with 1 Axes>"
      ]
     },
     "metadata": {},
     "output_type": "display_data"
    }
   ],
   "source": [
    "#how much more I slept each night vs. amount slept night before\n",
    "sns.regplot(x = stepsdf.hours_prev, y = stepsdf.hours_diff, color = \"mediumseagreen\")\n",
    "plt.title(\"Do I Have A Sleep Deficit?\")\n",
    "plt.ylabel(\"Difference in Hours\")\n",
    "plt.xlabel(\"Hours of Sleep\")\n",
    "plt.show()"
   ]
  },
  {
   "cell_type": "markdown",
   "id": "6a5fb81b",
   "metadata": {},
   "source": [
    "This is proof of the negative relationship we saw on the regression table!"
   ]
  },
  {
   "cell_type": "markdown",
   "id": "53e3edc0",
   "metadata": {},
   "source": [
    "## 4. Summary & Next steps"
   ]
  },
  {
   "cell_type": "markdown",
   "id": "e22f15d1",
   "metadata": {},
   "source": [
    "In sum, we have exported Xiaomi MiBand data, worked with csv data, visualized our data, and we ran two linear regressions. We found that my activity level is independent from how much sleep I get and that I built up a sleep deficit over time. Feels like a flex!!\n",
    "\n",
    "What I would like to do next is collect more data! I would also like to create some interactive visuals and run some more sophisticated models on my data. \n",
    "##### Finally if you have suggestions on how I can improve, sources of how I can improve my code or comments please let me know, I'm using this space to learn and share\n",
    "\n",
    "THANKS!!"
   ]
  },
  {
   "cell_type": "code",
   "execution_count": null,
   "id": "35183f89",
   "metadata": {},
   "outputs": [],
   "source": []
  }
 ],
 "metadata": {
  "kernelspec": {
   "display_name": "Python 3 (ipykernel)",
   "language": "python",
   "name": "python3"
  },
  "language_info": {
   "codemirror_mode": {
    "name": "ipython",
    "version": 3
   },
   "file_extension": ".py",
   "mimetype": "text/x-python",
   "name": "python",
   "nbconvert_exporter": "python",
   "pygments_lexer": "ipython3",
   "version": "3.9.12"
  }
 },
 "nbformat": 4,
 "nbformat_minor": 5
}
